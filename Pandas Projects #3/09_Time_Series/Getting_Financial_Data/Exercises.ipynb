{
 "cells": [
  {
   "cell_type": "markdown",
   "metadata": {},
   "source": [
    "# Getting Financial Data - Pandas Datareader"
   ]
  },
  {
   "cell_type": "markdown",
   "metadata": {},
   "source": [
    "### Introduction:\n",
    "\n",
    "This time you will get data from a website.\n",
    "\n",
    "\n",
    "### Step 1. Import the necessary libraries"
   ]
  },
  {
   "cell_type": "code",
   "execution_count": 34,
   "metadata": {},
   "outputs": [],
   "source": [
    "import pandas as pd \n",
    "import numpy as np\n",
    "import datetime as dt\n",
    "import pandas_datareader.data as web\n",
    "from pandas_datareader import data, wb\n",
    "import datetime\n"
   ]
  },
  {
   "cell_type": "markdown",
   "metadata": {},
   "source": [
    "### Step 2. Create your time range (start and end variables). The start date should be 01/01/2015 and the end should today (whatever your today is)."
   ]
  },
  {
   "cell_type": "code",
   "execution_count": 40,
   "metadata": {},
   "outputs": [
    {
     "data": {
      "text/plain": [
       "datetime.datetime(2015, 1, 1, 0, 0)"
      ]
     },
     "execution_count": 40,
     "metadata": {},
     "output_type": "execute_result"
    }
   ],
   "source": [
    "start_date = datetime.datetime(2015, 1, 1)\n",
    "end_date = datetime.datetime.now()\n",
    "start_date"
   ]
  },
  {
   "cell_type": "markdown",
   "metadata": {},
   "source": [
    "### Step 3. Get an API key for one of the APIs that are supported by Pandas Datareader, preferably for AlphaVantage.\n",
    "\n",
    "If you do not have an API key for any of the supported APIs, it is easiest to get one for [AlphaVantage](https://www.alphavantage.co/support/#api-key). (Note that the API key is shown directly after the signup. You do *not* receive it via e-mail.)\n",
    "\n",
    "(For a full list of the APIs that are supported by Pandas Datareader, [see here](https://pydata.github.io/pandas-datareader/readers/index.html). As the APIs are provided by third parties, this list may change.)"
   ]
  },
  {
   "cell_type": "markdown",
   "metadata": {},
   "source": [
    "### Step 4. Use Pandas Datarader to read the daily time series for the Apple stock (ticker symbol AAPL) between 01/01/2015 and today, assign it to df_apple and print it."
   ]
  },
  {
   "cell_type": "code",
   "execution_count": 41,
   "metadata": {},
   "outputs": [
    {
     "name": "stdout",
     "output_type": "stream",
     "text": [
      "               open    high      low   close    volume\n",
      "2015-01-02  111.390  111.44  107.350  109.33  53204626\n",
      "2015-01-05  108.290  108.65  105.410  106.25  64285491\n",
      "2015-01-06  106.540  107.43  104.630  106.26  65797116\n",
      "2015-01-07  107.200  108.20  106.695  107.75  40105934\n",
      "2015-01-08  109.230  112.15  108.700  111.89  59364547\n",
      "...             ...     ...      ...     ...       ...\n",
      "2024-03-25  170.565  171.94  169.450  170.85  54288328\n",
      "2024-03-26  170.000  171.42  169.580  169.71  57388449\n",
      "2024-03-27  170.410  173.60  170.110  173.31  60273265\n",
      "2024-03-28  171.750  172.23  170.510  171.48  65672690\n",
      "2024-04-01  171.000  171.23  169.480  170.03  45346268\n",
      "\n",
      "[2326 rows x 5 columns]\n"
     ]
    }
   ],
   "source": [
    "api_key = '6GKSY5M170VVLT59'\n",
    "df_apple = web.DataReader(\n",
    "    'AAPL', 'av-daily', start_date, end_date, api_key=api_key)\n",
    "\n",
    "# Print the DataFrame\n",
    "print(df_apple)"
   ]
  },
  {
   "cell_type": "markdown",
   "metadata": {},
   "source": [
    "### Step 5. Add a new column \"stock\" to the dataframe and add the ticker symbol"
   ]
  },
  {
   "cell_type": "code",
   "execution_count": 42,
   "metadata": {},
   "outputs": [
    {
     "data": {
      "text/html": [
       "<div>\n",
       "<style scoped>\n",
       "    .dataframe tbody tr th:only-of-type {\n",
       "        vertical-align: middle;\n",
       "    }\n",
       "\n",
       "    .dataframe tbody tr th {\n",
       "        vertical-align: top;\n",
       "    }\n",
       "\n",
       "    .dataframe thead th {\n",
       "        text-align: right;\n",
       "    }\n",
       "</style>\n",
       "<table border=\"1\" class=\"dataframe\">\n",
       "  <thead>\n",
       "    <tr style=\"text-align: right;\">\n",
       "      <th></th>\n",
       "      <th>open</th>\n",
       "      <th>high</th>\n",
       "      <th>low</th>\n",
       "      <th>close</th>\n",
       "      <th>volume</th>\n",
       "      <th>stock</th>\n",
       "    </tr>\n",
       "  </thead>\n",
       "  <tbody>\n",
       "    <tr>\n",
       "      <th>2015-01-02</th>\n",
       "      <td>111.390</td>\n",
       "      <td>111.44</td>\n",
       "      <td>107.350</td>\n",
       "      <td>109.33</td>\n",
       "      <td>53204626</td>\n",
       "      <td>AAPL</td>\n",
       "    </tr>\n",
       "    <tr>\n",
       "      <th>2015-01-05</th>\n",
       "      <td>108.290</td>\n",
       "      <td>108.65</td>\n",
       "      <td>105.410</td>\n",
       "      <td>106.25</td>\n",
       "      <td>64285491</td>\n",
       "      <td>AAPL</td>\n",
       "    </tr>\n",
       "    <tr>\n",
       "      <th>2015-01-06</th>\n",
       "      <td>106.540</td>\n",
       "      <td>107.43</td>\n",
       "      <td>104.630</td>\n",
       "      <td>106.26</td>\n",
       "      <td>65797116</td>\n",
       "      <td>AAPL</td>\n",
       "    </tr>\n",
       "    <tr>\n",
       "      <th>2015-01-07</th>\n",
       "      <td>107.200</td>\n",
       "      <td>108.20</td>\n",
       "      <td>106.695</td>\n",
       "      <td>107.75</td>\n",
       "      <td>40105934</td>\n",
       "      <td>AAPL</td>\n",
       "    </tr>\n",
       "    <tr>\n",
       "      <th>2015-01-08</th>\n",
       "      <td>109.230</td>\n",
       "      <td>112.15</td>\n",
       "      <td>108.700</td>\n",
       "      <td>111.89</td>\n",
       "      <td>59364547</td>\n",
       "      <td>AAPL</td>\n",
       "    </tr>\n",
       "    <tr>\n",
       "      <th>...</th>\n",
       "      <td>...</td>\n",
       "      <td>...</td>\n",
       "      <td>...</td>\n",
       "      <td>...</td>\n",
       "      <td>...</td>\n",
       "      <td>...</td>\n",
       "    </tr>\n",
       "    <tr>\n",
       "      <th>2024-03-25</th>\n",
       "      <td>170.565</td>\n",
       "      <td>171.94</td>\n",
       "      <td>169.450</td>\n",
       "      <td>170.85</td>\n",
       "      <td>54288328</td>\n",
       "      <td>AAPL</td>\n",
       "    </tr>\n",
       "    <tr>\n",
       "      <th>2024-03-26</th>\n",
       "      <td>170.000</td>\n",
       "      <td>171.42</td>\n",
       "      <td>169.580</td>\n",
       "      <td>169.71</td>\n",
       "      <td>57388449</td>\n",
       "      <td>AAPL</td>\n",
       "    </tr>\n",
       "    <tr>\n",
       "      <th>2024-03-27</th>\n",
       "      <td>170.410</td>\n",
       "      <td>173.60</td>\n",
       "      <td>170.110</td>\n",
       "      <td>173.31</td>\n",
       "      <td>60273265</td>\n",
       "      <td>AAPL</td>\n",
       "    </tr>\n",
       "    <tr>\n",
       "      <th>2024-03-28</th>\n",
       "      <td>171.750</td>\n",
       "      <td>172.23</td>\n",
       "      <td>170.510</td>\n",
       "      <td>171.48</td>\n",
       "      <td>65672690</td>\n",
       "      <td>AAPL</td>\n",
       "    </tr>\n",
       "    <tr>\n",
       "      <th>2024-04-01</th>\n",
       "      <td>171.000</td>\n",
       "      <td>171.23</td>\n",
       "      <td>169.480</td>\n",
       "      <td>170.03</td>\n",
       "      <td>45346268</td>\n",
       "      <td>AAPL</td>\n",
       "    </tr>\n",
       "  </tbody>\n",
       "</table>\n",
       "<p>2326 rows × 6 columns</p>\n",
       "</div>"
      ],
      "text/plain": [
       "               open    high      low   close    volume stock\n",
       "2015-01-02  111.390  111.44  107.350  109.33  53204626  AAPL\n",
       "2015-01-05  108.290  108.65  105.410  106.25  64285491  AAPL\n",
       "2015-01-06  106.540  107.43  104.630  106.26  65797116  AAPL\n",
       "2015-01-07  107.200  108.20  106.695  107.75  40105934  AAPL\n",
       "2015-01-08  109.230  112.15  108.700  111.89  59364547  AAPL\n",
       "...             ...     ...      ...     ...       ...   ...\n",
       "2024-03-25  170.565  171.94  169.450  170.85  54288328  AAPL\n",
       "2024-03-26  170.000  171.42  169.580  169.71  57388449  AAPL\n",
       "2024-03-27  170.410  173.60  170.110  173.31  60273265  AAPL\n",
       "2024-03-28  171.750  172.23  170.510  171.48  65672690  AAPL\n",
       "2024-04-01  171.000  171.23  169.480  170.03  45346268  AAPL\n",
       "\n",
       "[2326 rows x 6 columns]"
      ]
     },
     "execution_count": 42,
     "metadata": {},
     "output_type": "execute_result"
    }
   ],
   "source": [
    "df_apple['stock'] = 'AAPL'\n",
    "df_apple"
   ]
  },
  {
   "cell_type": "markdown",
   "metadata": {},
   "source": [
    "### Step 6. Repeat the two previous steps for a few other stocks, always creating a new dataframe: Tesla, IBM and Microsoft. (Ticker symbols TSLA, IBM and MSFT.)"
   ]
  },
  {
   "cell_type": "code",
   "execution_count": 43,
   "metadata": {},
   "outputs": [
    {
     "name": "stdout",
     "output_type": "stream",
     "text": [
      "Tesla (TSLA):\n",
      "               open      high       low    close     volume stock\n",
      "2015-01-02  222.87  223.2500  213.2600  219.310    4764443  TSLA\n",
      "2015-01-05  214.55  216.5000  207.1626  210.090    5368477  TSLA\n",
      "2015-01-06  210.06  214.2000  204.2100  211.280    6261936  TSLA\n",
      "2015-01-07  213.35  214.7800  209.7800  210.950    2968390  TSLA\n",
      "2015-01-08  212.81  213.7999  210.0100  210.615    3442509  TSLA\n",
      "...            ...       ...       ...      ...        ...   ...\n",
      "2024-03-25  168.76  175.2400  168.7300  172.630   74228615  TSLA\n",
      "2024-03-26  178.58  184.2500  177.3800  177.670  113186227  TSLA\n",
      "2024-03-27  181.41  181.9100  176.0000  179.830   81804043  TSLA\n",
      "2024-03-28  177.45  179.5700  175.3000  175.790   77654838  TSLA\n",
      "2024-04-01  176.20  176.7500  170.2100  175.220   81180793  TSLA\n",
      "\n",
      "[2326 rows x 6 columns]\n",
      "\n",
      "IBM:\n",
      "               open      high     low   close   volume stock\n",
      "2015-01-02  161.31  163.3100  161.00  162.06  5525341   IBM\n",
      "2015-01-05  161.27  161.2700  159.19  159.51  4880389   IBM\n",
      "2015-01-06  159.67  159.9600  155.17  156.07  6145670   IBM\n",
      "2015-01-07  157.20  157.2000  154.03  155.05  4701015   IBM\n",
      "2015-01-08  156.24  159.0440  155.55  158.42  4240585   IBM\n",
      "...            ...       ...     ...     ...      ...   ...\n",
      "2024-03-25  190.26  190.8200  188.75  188.79  3718289   IBM\n",
      "2024-03-26  189.02  190.0000  188.50  188.50  4229535   IBM\n",
      "2024-03-27  189.60  190.9600  188.60  190.80  3693305   IBM\n",
      "2024-03-28  190.94  191.9299  190.34  190.96  3742169   IBM\n",
      "2024-04-01  190.01  190.4600  188.55  189.81  2363216   IBM\n",
      "\n",
      "[2326 rows x 6 columns]\n",
      "\n",
      "Microsoft (MSFT):\n",
      "               open      high     low    close    volume stock\n",
      "2015-01-02   46.66   47.4200   46.54   46.760  27913852  MSFT\n",
      "2015-01-05   46.37   46.7300   46.25   46.325  39673865  MSFT\n",
      "2015-01-06   46.38   46.7490   45.54   45.650  36447854  MSFT\n",
      "2015-01-07   45.98   46.4600   45.49   46.230  29114061  MSFT\n",
      "2015-01-08   46.75   47.7499   46.72   47.590  29645202  MSFT\n",
      "...            ...       ...     ...      ...       ...   ...\n",
      "2024-03-25  425.24  427.4100  421.61  422.860  18060450  MSFT\n",
      "2024-03-26  425.61  425.9900  421.35  421.650  16725647  MSFT\n",
      "2024-03-27  424.44  424.4500  419.01  421.430  16704978  MSFT\n",
      "2024-03-28  420.96  421.8700  419.12  420.720  21871161  MSFT\n",
      "2024-04-01  423.91  427.8900  422.22  424.570  16295153  MSFT\n",
      "\n",
      "[2326 rows x 6 columns]\n"
     ]
    }
   ],
   "source": [
    "def fetch_stock_data(ticker):\n",
    "    df = web.DataReader(ticker, 'av-daily', start_date,\n",
    "                        end_date, api_key=api_key)\n",
    "    df['stock'] = ticker  \n",
    "    return df\n",
    "\n",
    "df_tesla = fetch_stock_data('TSLA')\n",
    "\n",
    "df_ibm = fetch_stock_data('IBM')\n",
    "\n",
    "df_microsoft = fetch_stock_data('MSFT')\n",
    "print(\"Tesla (TSLA):\\n\", df_tesla)\n",
    "print(\"\\nIBM:\\n\", df_ibm)\n",
    "print(\"\\nMicrosoft (MSFT):\\n\", df_microsoft)"
   ]
  },
  {
   "cell_type": "markdown",
   "metadata": {},
   "source": [
    "### Step 7. Combine the four separate dataFrames into one combined dataFrame df that holds the information for all four stocks"
   ]
  },
  {
   "cell_type": "code",
   "execution_count": 44,
   "metadata": {},
   "outputs": [
    {
     "data": {
      "text/html": [
       "<div>\n",
       "<style scoped>\n",
       "    .dataframe tbody tr th:only-of-type {\n",
       "        vertical-align: middle;\n",
       "    }\n",
       "\n",
       "    .dataframe tbody tr th {\n",
       "        vertical-align: top;\n",
       "    }\n",
       "\n",
       "    .dataframe thead th {\n",
       "        text-align: right;\n",
       "    }\n",
       "</style>\n",
       "<table border=\"1\" class=\"dataframe\">\n",
       "  <thead>\n",
       "    <tr style=\"text-align: right;\">\n",
       "      <th></th>\n",
       "      <th>index</th>\n",
       "      <th>open</th>\n",
       "      <th>high</th>\n",
       "      <th>low</th>\n",
       "      <th>close</th>\n",
       "      <th>volume</th>\n",
       "      <th>stock</th>\n",
       "    </tr>\n",
       "  </thead>\n",
       "  <tbody>\n",
       "    <tr>\n",
       "      <th>0</th>\n",
       "      <td>2015-01-02</td>\n",
       "      <td>111.39</td>\n",
       "      <td>111.44</td>\n",
       "      <td>107.350</td>\n",
       "      <td>109.33</td>\n",
       "      <td>53204626</td>\n",
       "      <td>AAPL</td>\n",
       "    </tr>\n",
       "    <tr>\n",
       "      <th>1</th>\n",
       "      <td>2015-01-05</td>\n",
       "      <td>108.29</td>\n",
       "      <td>108.65</td>\n",
       "      <td>105.410</td>\n",
       "      <td>106.25</td>\n",
       "      <td>64285491</td>\n",
       "      <td>AAPL</td>\n",
       "    </tr>\n",
       "    <tr>\n",
       "      <th>2</th>\n",
       "      <td>2015-01-06</td>\n",
       "      <td>106.54</td>\n",
       "      <td>107.43</td>\n",
       "      <td>104.630</td>\n",
       "      <td>106.26</td>\n",
       "      <td>65797116</td>\n",
       "      <td>AAPL</td>\n",
       "    </tr>\n",
       "    <tr>\n",
       "      <th>3</th>\n",
       "      <td>2015-01-07</td>\n",
       "      <td>107.20</td>\n",
       "      <td>108.20</td>\n",
       "      <td>106.695</td>\n",
       "      <td>107.75</td>\n",
       "      <td>40105934</td>\n",
       "      <td>AAPL</td>\n",
       "    </tr>\n",
       "    <tr>\n",
       "      <th>4</th>\n",
       "      <td>2015-01-08</td>\n",
       "      <td>109.23</td>\n",
       "      <td>112.15</td>\n",
       "      <td>108.700</td>\n",
       "      <td>111.89</td>\n",
       "      <td>59364547</td>\n",
       "      <td>AAPL</td>\n",
       "    </tr>\n",
       "    <tr>\n",
       "      <th>...</th>\n",
       "      <td>...</td>\n",
       "      <td>...</td>\n",
       "      <td>...</td>\n",
       "      <td>...</td>\n",
       "      <td>...</td>\n",
       "      <td>...</td>\n",
       "      <td>...</td>\n",
       "    </tr>\n",
       "    <tr>\n",
       "      <th>9299</th>\n",
       "      <td>2024-03-25</td>\n",
       "      <td>425.24</td>\n",
       "      <td>427.41</td>\n",
       "      <td>421.610</td>\n",
       "      <td>422.86</td>\n",
       "      <td>18060450</td>\n",
       "      <td>MSFT</td>\n",
       "    </tr>\n",
       "    <tr>\n",
       "      <th>9300</th>\n",
       "      <td>2024-03-26</td>\n",
       "      <td>425.61</td>\n",
       "      <td>425.99</td>\n",
       "      <td>421.350</td>\n",
       "      <td>421.65</td>\n",
       "      <td>16725647</td>\n",
       "      <td>MSFT</td>\n",
       "    </tr>\n",
       "    <tr>\n",
       "      <th>9301</th>\n",
       "      <td>2024-03-27</td>\n",
       "      <td>424.44</td>\n",
       "      <td>424.45</td>\n",
       "      <td>419.010</td>\n",
       "      <td>421.43</td>\n",
       "      <td>16704978</td>\n",
       "      <td>MSFT</td>\n",
       "    </tr>\n",
       "    <tr>\n",
       "      <th>9302</th>\n",
       "      <td>2024-03-28</td>\n",
       "      <td>420.96</td>\n",
       "      <td>421.87</td>\n",
       "      <td>419.120</td>\n",
       "      <td>420.72</td>\n",
       "      <td>21871161</td>\n",
       "      <td>MSFT</td>\n",
       "    </tr>\n",
       "    <tr>\n",
       "      <th>9303</th>\n",
       "      <td>2024-04-01</td>\n",
       "      <td>423.91</td>\n",
       "      <td>427.89</td>\n",
       "      <td>422.220</td>\n",
       "      <td>424.57</td>\n",
       "      <td>16295153</td>\n",
       "      <td>MSFT</td>\n",
       "    </tr>\n",
       "  </tbody>\n",
       "</table>\n",
       "<p>9304 rows × 7 columns</p>\n",
       "</div>"
      ],
      "text/plain": [
       "           index    open    high      low   close    volume stock\n",
       "0     2015-01-02  111.39  111.44  107.350  109.33  53204626  AAPL\n",
       "1     2015-01-05  108.29  108.65  105.410  106.25  64285491  AAPL\n",
       "2     2015-01-06  106.54  107.43  104.630  106.26  65797116  AAPL\n",
       "3     2015-01-07  107.20  108.20  106.695  107.75  40105934  AAPL\n",
       "4     2015-01-08  109.23  112.15  108.700  111.89  59364547  AAPL\n",
       "...          ...     ...     ...      ...     ...       ...   ...\n",
       "9299  2024-03-25  425.24  427.41  421.610  422.86  18060450  MSFT\n",
       "9300  2024-03-26  425.61  425.99  421.350  421.65  16725647  MSFT\n",
       "9301  2024-03-27  424.44  424.45  419.010  421.43  16704978  MSFT\n",
       "9302  2024-03-28  420.96  421.87  419.120  420.72  21871161  MSFT\n",
       "9303  2024-04-01  423.91  427.89  422.220  424.57  16295153  MSFT\n",
       "\n",
       "[9304 rows x 7 columns]"
      ]
     },
     "execution_count": 44,
     "metadata": {},
     "output_type": "execute_result"
    }
   ],
   "source": [
    "df = pd.concat([df_apple, df_tesla, df_ibm, df_microsoft])\n",
    "\n",
    "df.reset_index(inplace=True)\n",
    "df"
   ]
  },
  {
   "cell_type": "markdown",
   "metadata": {},
   "source": [
    "### Step 8. Shift the stock column into the index (making it a multi-level index consisting of the ticker symbol and the date)."
   ]
  },
  {
   "cell_type": "code",
   "execution_count": 58,
   "metadata": {},
   "outputs": [
    {
     "name": "stdout",
     "output_type": "stream",
     "text": [
      "Index(['index', 'open', 'high', 'low', 'close', 'volume'], dtype='object')\n",
      "              open    high      low   close    volume\n",
      "index                                                \n",
      "2015-01-02  111.39  111.44  107.350  109.33  53204626\n",
      "2015-01-05  108.29  108.65  105.410  106.25  64285491\n",
      "2015-01-06  106.54  107.43  104.630  106.26  65797116\n",
      "2015-01-07  107.20  108.20  106.695  107.75  40105934\n",
      "2015-01-08  109.23  112.15  108.700  111.89  59364547\n",
      "...            ...     ...      ...     ...       ...\n",
      "2024-03-25  425.24  427.41  421.610  422.86  18060450\n",
      "2024-03-26  425.61  425.99  421.350  421.65  16725647\n",
      "2024-03-27  424.44  424.45  419.010  421.43  16704978\n",
      "2024-03-28  420.96  421.87  419.120  420.72  21871161\n",
      "2024-04-01  423.91  427.89  422.220  424.57  16295153\n",
      "\n",
      "[9304 rows x 5 columns]\n"
     ]
    }
   ],
   "source": [
    "print(df.columns)\n",
    "\n",
    "# Assuming 'index' represents the date, you can set it as the index\n",
    "df.set_index('index', inplace=True)\n",
    "\n",
    "# Print the DataFrame to verify the changes\n",
    "print(df)"
   ]
  },
  {
   "cell_type": "markdown",
   "metadata": {},
   "source": [
    "### Step 7. Create a dataFrame called vol, with the volume values."
   ]
  },
  {
   "cell_type": "code",
   "execution_count": 59,
   "metadata": {},
   "outputs": [
    {
     "data": {
      "text/plain": [
       "index\n",
       "2015-01-02    53204626\n",
       "2015-01-05    64285491\n",
       "2015-01-06    65797116\n",
       "2015-01-07    40105934\n",
       "2015-01-08    59364547\n",
       "Name: volume, dtype: int64"
      ]
     },
     "execution_count": 59,
     "metadata": {},
     "output_type": "execute_result"
    }
   ],
   "source": [
    "vol = df['volume']\n",
    "vol.head() "
   ]
  },
  {
   "cell_type": "markdown",
   "metadata": {},
   "source": [
    "### Step 8. Aggregate the data of volume to weekly.\n",
    "Hint: Be careful to not sum data from the same week of 2015 and other years."
   ]
  },
  {
   "cell_type": "code",
   "execution_count": 60,
   "metadata": {},
   "outputs": [
    {
     "name": "stdout",
     "output_type": "stream",
     "text": [
      "                 open       high        low    close      volume\n",
      "index index                                                     \n",
      "2015  1       542.230   545.4200   528.1500   537.46    91408262\n",
      "      2      2629.510  2652.2628  2583.8576  2614.90   488527205\n",
      "      3      2541.000  2575.7399  2504.6610  2537.56   515385976\n",
      "      4      2022.740  2058.2516  2001.7800  2041.98   383535971\n",
      "      5      2583.555  2617.3445  2544.9349  2577.95   952276986\n",
      "...               ...        ...        ...      ...         ...\n",
      "2024  10     4785.090  4832.7240  4715.4800  4762.16  1075517727\n",
      "      11     4763.190  4816.5426  4705.2351  4760.84  1025183824\n",
      "      12     4807.570  4852.8756  4760.4300  4820.35   900392278\n",
      "      13     3844.995  3873.5899  3814.3400  3836.98   673241989\n",
      "      14      961.120   966.3300   950.4600   959.63   145185430\n",
      "\n",
      "[484 rows x 5 columns]\n"
     ]
    },
    {
     "name": "stderr",
     "output_type": "stream",
     "text": [
      "C:\\Users\\Compu City\\AppData\\Local\\Temp\\ipykernel_7628\\2861660685.py:4: FutureWarning: weekofyear and week have been deprecated, please use DatetimeIndex.isocalendar().week instead, which returns a Series. To exactly reproduce the behavior of week and weekofyear and return an Index, you may call pd.Int64Index(idx.isocalendar().week)\n",
      "  vol_weekly = df.groupby([df.index.year, df.index.week]).sum()\n"
     ]
    }
   ],
   "source": [
    "df.index = pd.to_datetime(df.index)\n",
    "\n",
    "vol_weekly = df.groupby([df.index.year, df.index.week]).sum()\n",
    "\n",
    "print(vol_weekly)"
   ]
  },
  {
   "cell_type": "markdown",
   "metadata": {},
   "source": [
    "### Step 9. Find all the volume traded in the year of 2015"
   ]
  },
  {
   "cell_type": "code",
   "execution_count": 61,
   "metadata": {},
   "outputs": [
    {
     "name": "stdout",
     "output_type": "stream",
     "text": [
      "Total volume traded in 2015: 24314152987\n"
     ]
    }
   ],
   "source": [
    "# Assuming 'index' represents the date and 'volume' represents the volume data\n",
    "# First, ensure that 'index' is in datetime format\n",
    "df.index = pd.to_datetime(df.index)\n",
    "\n",
    "# Filter the DataFrame to include only the data from the year 2015\n",
    "vol_2015 = df[df.index.year == 2015]\n",
    "\n",
    "# Then, sum the volume for the entire year\n",
    "total_volume_2015 = vol_2015['volume'].sum()\n",
    "\n",
    "# Print the total volume traded in the year of 2015\n",
    "print(\"Total volume traded in 2015:\", total_volume_2015)"
   ]
  },
  {
   "cell_type": "code",
   "execution_count": null,
   "metadata": {},
   "outputs": [],
   "source": []
  }
 ],
 "metadata": {
  "kernelspec": {
   "display_name": "Python 3",
   "language": "python",
   "name": "python3"
  },
  "language_info": {
   "codemirror_mode": {
    "name": "ipython",
    "version": 3
   },
   "file_extension": ".py",
   "mimetype": "text/x-python",
   "name": "python",
   "nbconvert_exporter": "python",
   "pygments_lexer": "ipython3",
   "version": "3.10.4"
  }
 },
 "nbformat": 4,
 "nbformat_minor": 1
}
